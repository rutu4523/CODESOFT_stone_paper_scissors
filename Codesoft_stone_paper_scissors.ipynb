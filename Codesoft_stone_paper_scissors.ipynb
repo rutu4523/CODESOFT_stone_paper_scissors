{
  "nbformat": 4,
  "nbformat_minor": 0,
  "metadata": {
    "colab": {
      "provenance": []
    },
    "kernelspec": {
      "name": "python3",
      "display_name": "Python 3"
    },
    "language_info": {
      "name": "python"
    }
  },
  "cells": [
    {
      "cell_type": "code",
      "execution_count": 6,
      "metadata": {
        "colab": {
          "base_uri": "https://localhost:8080/"
        },
        "id": "X-pCIeZGPWIZ",
        "outputId": "4a792f3f-3128-4a68-f085-dbf1bec4e673"
      },
      "outputs": [
        {
          "name": "stdout",
          "output_type": "stream",
          "text": [
            "What do you choose? Type 0 for Rock, 1 for Paper, or 2 for Scissors.\n",
            "1\n",
            "\n",
            "    _______\n",
            "---'   ____)____\n",
            "          ______)\n",
            "          _______)\n",
            "         _______)\n",
            "---.__________)\n",
            "\n",
            "Computer chose:\n",
            "\n",
            "    _______\n",
            "---'   ____)____\n",
            "          ______)\n",
            "       __________)\n",
            "      (____)\n",
            "---.__(___)\n",
            "\n",
            "You lose\n",
            "Do you want to play again? Type 'yes' or 'no': yes\n",
            "What do you choose? Type 0 for Rock, 1 for Paper, or 2 for Scissors.\n",
            "0\n",
            "\n",
            "    _______\n",
            "---'   ____)\n",
            "      (_____)\n",
            "      (_____)\n",
            "      (____)\n",
            "---.__(___)\n",
            "\n",
            "Computer chose:\n",
            "\n",
            "    _______\n",
            "---'   ____)____\n",
            "          ______)\n",
            "       __________)\n",
            "      (____)\n",
            "---.__(___)\n",
            "\n",
            "You win!\n",
            "Do you want to play again? Type 'yes' or 'no': no\n"
          ]
        }
      ],
      "source": [
        "import random\n",
        "\n",
        "rock = '''\n",
        "    _______\n",
        "---'   ____)\n",
        "      (_____)\n",
        "      (_____)\n",
        "      (____)\n",
        "---.__(___)\n",
        "'''\n",
        "\n",
        "paper = '''\n",
        "    _______\n",
        "---'   ____)____\n",
        "          ______)\n",
        "          _______)\n",
        "         _______)\n",
        "---.__________)\n",
        "'''\n",
        "\n",
        "scissors = '''\n",
        "    _______\n",
        "---'   ____)____\n",
        "          ______)\n",
        "       __________)\n",
        "      (____)\n",
        "---.__(___)\n",
        "'''\n",
        "\n",
        "game_images = [rock, paper, scissors]\n",
        "\n",
        "play_again = \"yes\"\n",
        "while play_again.lower() == \"yes\":\n",
        "    user_choice = int(input(\"What do you choose? Type 0 for Rock, 1 for Paper, or 2 for Scissors.\\n\"))\n",
        "    print(game_images[user_choice])\n",
        "\n",
        "    computer_choice = random.randint(0, 2)\n",
        "    print(\"Computer chose:\")\n",
        "    print(game_images[computer_choice])\n",
        "\n",
        "    if user_choice >= 3 or user_choice < 0:\n",
        "        print(\"You typed an invalid number, you lose!\")\n",
        "    elif user_choice == 0 and computer_choice == 2:\n",
        "        print(\"You win!\")\n",
        "    elif computer_choice == 0 and user_choice == 2:\n",
        "        print(\"You lose\")\n",
        "    elif computer_choice > user_choice:\n",
        "        print(\"You lose\")\n",
        "    elif user_choice > computer_choice:\n",
        "        print(\"You win!\")\n",
        "    elif computer_choice == user_choice:\n",
        "        print(\"It's a draw\")\n",
        "\n",
        "    play_again = input(\"Do you want to play again? Type 'yes' or 'no': \")"
      ]
    }
  ]
}